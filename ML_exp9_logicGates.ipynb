{
  "nbformat": 4,
  "nbformat_minor": 0,
  "metadata": {
    "colab": {
      "provenance": [],
      "authorship_tag": "ABX9TyNlwnpCnFw1lCM5W6XzlR34",
      "include_colab_link": true
    },
    "kernelspec": {
      "name": "python3",
      "display_name": "Python 3"
    },
    "language_info": {
      "name": "python"
    }
  },
  "cells": [
    {
      "cell_type": "markdown",
      "metadata": {
        "id": "view-in-github",
        "colab_type": "text"
      },
      "source": [
        "<a href=\"https://colab.research.google.com/github/Tanushree-233/Machine_Learning/blob/main/ML_exp9_logicGates.ipynb\" target=\"_parent\"><img src=\"https://colab.research.google.com/assets/colab-badge.svg\" alt=\"Open In Colab\"/></a>"
      ]
    },
    {
      "cell_type": "code",
      "execution_count": 1,
      "metadata": {
        "colab": {
          "base_uri": "https://localhost:8080/"
        },
        "id": "DoOd5R4S6Y3e",
        "outputId": "eace5484-41cc-4cbb-d036-f6c676464260"
      },
      "outputs": [
        {
          "output_type": "stream",
          "name": "stdout",
          "text": [
            "AND Gate\n",
            "(0, 0) -> 0\n",
            "(0, 1) -> 0\n",
            "(1, 0) -> 0\n",
            "(1, 1) -> 1\n",
            "\n",
            "OR Gate\n",
            "(0, 0) -> 0\n",
            "(0, 1) -> 1\n",
            "(1, 0) -> 1\n",
            "(1, 1) -> 1\n",
            "\n",
            "NAND Gate\n",
            "(0, 0) -> 1\n",
            "(0, 1) -> 1\n",
            "(1, 0) -> 1\n",
            "(1, 1) -> 0\n",
            "\n",
            "NOR Gate\n",
            "(0, 0) -> 1\n",
            "(0, 1) -> 0\n",
            "(1, 0) -> 0\n",
            "(1, 1) -> 0\n",
            "\n",
            "NOT Gate\n",
            "0 -> 1\n",
            "1 -> 0\n"
          ]
        }
      ],
      "source": [
        "def mp_neuron(inputs, weights, threshold):\n",
        "    # Weighted sum\n",
        "    summation = sum(i*w for i, w in zip(inputs, weights))\n",
        "    # Activation\n",
        "    return 1 if summation >= threshold else 0\n",
        "\n",
        "# Logic Gates\n",
        "def AND(x1, x2):\n",
        "    return mp_neuron([x1, x2], [1, 1], 2)\n",
        "\n",
        "def OR(x1, x2):\n",
        "    return mp_neuron([x1, x2], [1, 1], 1)\n",
        "\n",
        "def NOT(x):\n",
        "    return mp_neuron([x], [-1], 0)\n",
        "\n",
        "def NAND(x1, x2):\n",
        "    return mp_neuron([x1, x2], [-1, -1], -1)\n",
        "\n",
        "def NOR(x1, x2):\n",
        "    return mp_neuron([x1, x2], [-1, -1], 0)\n",
        "\n",
        "# Test all gates\n",
        "inputs = [(0,0), (0,1), (1,0), (1,1)]\n",
        "\n",
        "print(\"AND Gate\")\n",
        "for i in inputs:\n",
        "    print(f\"{i} -> {AND(*i)}\")\n",
        "\n",
        "print(\"\\nOR Gate\")\n",
        "for i in inputs:\n",
        "    print(f\"{i} -> {OR(*i)}\")\n",
        "\n",
        "print(\"\\nNAND Gate\")\n",
        "for i in inputs:\n",
        "    print(f\"{i} -> {NAND(*i)}\")\n",
        "\n",
        "print(\"\\nNOR Gate\")\n",
        "for i in inputs:\n",
        "    print(f\"{i} -> {NOR(*i)}\")\n",
        "\n",
        "print(\"\\nNOT Gate\")\n",
        "for i in [0,1]:\n",
        "    print(f\"{i} -> {NOT(i)}\")\n"
      ]
    }
  ]
}